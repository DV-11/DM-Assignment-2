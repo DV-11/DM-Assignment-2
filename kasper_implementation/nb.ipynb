{
 "cells": [
  {
   "cell_type": "code",
   "execution_count": 1,
   "metadata": {},
   "outputs": [],
   "source": [
    "from sklearn.feature_extraction.text import CountVectorizer\n",
    "from sklearn.naive_bayes import MultinomialNB\n",
    "import pandas as pd\n",
    "from sklearn.metrics import accuracy_score, classification_report\n",
    "import re\n",
    "import glob\n",
    "from sklearn.linear_model import LogisticRegression\n",
    "from sklearn.tree import DecisionTreeClassifier"
   ]
  },
  {
   "cell_type": "code",
   "execution_count": 2,
   "metadata": {},
   "outputs": [
    {
     "name": "stdout",
     "output_type": "stream",
     "text": [
      "              precision    recall  f1-score   support\n",
      "\n",
      "       False       0.88      0.88      0.88        80\n",
      "        True       0.88      0.88      0.88        80\n",
      "\n",
      "    accuracy                           0.88       160\n",
      "   macro avg       0.88      0.88      0.88       160\n",
      "weighted avg       0.88      0.88      0.88       160\n",
      "\n"
     ]
    }
   ],
   "source": [
    "\n",
    "txt_n1_f = glob.glob('./negative_polarity/deceptive_from_MTurk/fold1/*')\n",
    "txt_n2_f = glob.glob('./negative_polarity/deceptive_from_MTurk/fold2/*')\n",
    "txt_n3_f = glob.glob('./negative_polarity/deceptive_from_MTurk/fold3/*')\n",
    "txt_n4_f = glob.glob('./negative_polarity/deceptive_from_MTurk/fold4/*')\n",
    "txt_n5_f = glob.glob('./negative_polarity/deceptive_from_MTurk/fold5/*')\n",
    "\n",
    "\n",
    "txt_n1_r = glob.glob('./negative_polarity/truthful_from_Web/fold1/*')\n",
    "txt_n2_r = glob.glob('./negative_polarity/truthful_from_Web/fold2/*')\n",
    "txt_n3_r = glob.glob('./negative_polarity/truthful_from_Web/fold3/*')\n",
    "txt_n4_r = glob.glob('./negative_polarity/truthful_from_Web/fold4/*')\n",
    "txt_n5_r = glob.glob('./negative_polarity/truthful_from_Web/fold5/*')\n",
    "\n",
    "\n",
    "X_train = txt_n1_f + txt_n2_f + txt_n3_f + txt_n4_f\n",
    "y_train = [False for i in X_train]\n",
    "\n",
    "X_train_r = txt_n1_r + txt_n2_r + txt_n3_r + txt_n4_r\n",
    "\n",
    "X_train = X_train + X_train_r\n",
    "y_train = y_train + [True for i in X_train_r]\n",
    "\n",
    "X_test = txt_n5_f + txt_n5_r\n",
    "y_test = [False for i in txt_n5_f] + [True for i in txt_n5_r]\n",
    "\n",
    "def get_file_string(fpath):\n",
    "    with open(fpath, 'r') as fhandle:\n",
    "        return fhandle.read()\n",
    "\n",
    "X_train = [get_file_string(f) for f in X_train]\n",
    "X_test = [get_file_string(f) for f in X_test]\n",
    "\n",
    "df_train = pd.DataFrame({'text': X_train, 'label': y_train})\n",
    "df_test = pd.DataFrame({'text': X_test, 'label': y_test})\n",
    "\n",
    "def clean_text(text):\n",
    "    text = text.lower()  # Convert to lowercase\n",
    "    text = re.sub(r'[^\\w\\s]', '', text)  # Remove punctuation\n",
    "    # Add stemming or lemmatization if needed \n",
    "    return text\n",
    "\n",
    "df_train['text'] = df_train['text'].apply(clean_text)\n",
    "df_test['text'] = df_test['text'].apply(clean_text)\n",
    "\n",
    "\n",
    "cv = CountVectorizer(ngram_range=(1,1))\n",
    "\n",
    "X_train = cv.fit_transform(df_train['text'])\n",
    "y_train = df_train['label']\n",
    "\n",
    "X_test = cv.transform(df_test['text'])\n",
    "y_test = df_test['label']\n",
    "\n",
    "\n",
    "mnb = MultinomialNB(alpha=0.1)\n",
    "mnb.fit(X_train, y_train)\n",
    "y_pred = mnb.predict(X_test)\n",
    "print(classification_report(y_pred, y_test))\n"
   ]
  },
  {
   "cell_type": "code",
   "execution_count": 31,
   "metadata": {},
   "outputs": [
    {
     "name": "stdout",
     "output_type": "stream",
     "text": [
      "              precision    recall  f1-score   support\n",
      "\n",
      "       False       0.84      0.84      0.84        80\n",
      "        True       0.84      0.84      0.84        80\n",
      "\n",
      "    accuracy                           0.84       160\n",
      "   macro avg       0.84      0.84      0.84       160\n",
      "weighted avg       0.84      0.84      0.84       160\n",
      "\n"
     ]
    }
   ],
   "source": [
    "# LR\n",
    "\n",
    "cv = CountVectorizer(ngram_range=(1,1))\n",
    "\n",
    "X_train = cv.fit_transform(df_train['text'])\n",
    "y_train = df_train['label']\n",
    "\n",
    "X_test = cv.transform(df_test['text'])\n",
    "y_test = df_test['label']\n",
    "\n",
    "\n",
    "lr = LogisticRegression(penalty='l1', solver='liblinear', C=1)\n",
    "lr.fit(X_train, y_train)\n",
    "y_pred = lr.predict(X_test)\n",
    "print(classification_report(y_pred, y_test))"
   ]
  },
  {
   "cell_type": "code",
   "execution_count": null,
   "metadata": {},
   "outputs": [],
   "source": [
    "# Classification Trees\n",
    "\n",
    "cv = CountVectorizer(ngram_range=(1,1))\n",
    "\n",
    "X_train = cv.fit_transform(df_train['text'])\n",
    "y_train = df_train['label']\n",
    "\n",
    "X_test = cv.transform(df_test['text'])\n",
    "y_test = df_test['label']\n",
    "\n",
    "\n",
    "lr = LogisticRegression(penalty='l1', solver='liblinear', C=1)\n",
    "lr.fit(X_train, y_train)\n",
    "y_pred = lr.predict(X_test)\n",
    "print(classification_report(y_pred, y_test))"
   ]
  }
 ],
 "metadata": {
  "kernelspec": {
   "display_name": "venv",
   "language": "python",
   "name": "python3"
  },
  "language_info": {
   "codemirror_mode": {
    "name": "ipython",
    "version": 3
   },
   "file_extension": ".py",
   "mimetype": "text/x-python",
   "name": "python",
   "nbconvert_exporter": "python",
   "pygments_lexer": "ipython3",
   "version": "3.10.13"
  }
 },
 "nbformat": 4,
 "nbformat_minor": 2
}
